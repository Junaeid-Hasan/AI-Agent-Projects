{
  "nbformat": 4,
  "nbformat_minor": 0,
  "metadata": {
    "colab": {
      "provenance": [],
      "gpuType": "T4"
    },
    "kernelspec": {
      "name": "python3",
      "display_name": "Python 3"
    },
    "language_info": {
      "name": "python"
    },
    "accelerator": "GPU"
  },
  "cells": [
    {
      "cell_type": "markdown",
      "source": [
        "# AI Writing Assistant\n",
        "This GPT-powered Writing Assistant helps users enhance their writing by using three intelligent tools\n",
        " 1. Magic world- Generate fancy words\n",
        " 2. Grammer Check - Check Grammatical mistakes\n",
        " 3. Plot Idea Generate- Generate interesting plot ideas based on genra or\n",
        " theme.\n",
        "### It uses few-shot prompt engineering to teach the model how to use tools based on real user examples. When a user sends a message, the assistant decides whether to respond directly or call a tool function to generate a more helpful answer."
      ],
      "metadata": {
        "id": "s8dbfehXdrv8"
      }
    },
    {
      "cell_type": "markdown",
      "source": [
        "## Installing openai version 0.28 and Import the openAI API\n"
      ],
      "metadata": {
        "id": "zlUkdVYtc9c-"
      }
    },
    {
      "cell_type": "code",
      "execution_count": 1,
      "metadata": {
        "colab": {
          "base_uri": "https://localhost:8080/"
        },
        "collapsed": true,
        "id": "5IvojLcPc3_x",
        "outputId": "c1d2b87e-2310-4b1c-c4d5-9c21e6bf70a7"
      },
      "outputs": [
        {
          "output_type": "stream",
          "name": "stdout",
          "text": [
            "Collecting openai==0.28\n",
            "  Downloading openai-0.28.0-py3-none-any.whl.metadata (13 kB)\n",
            "Requirement already satisfied: requests>=2.20 in /usr/local/lib/python3.11/dist-packages (from openai==0.28) (2.32.3)\n",
            "Requirement already satisfied: tqdm in /usr/local/lib/python3.11/dist-packages (from openai==0.28) (4.67.1)\n",
            "Requirement already satisfied: aiohttp in /usr/local/lib/python3.11/dist-packages (from openai==0.28) (3.11.15)\n",
            "Requirement already satisfied: charset-normalizer<4,>=2 in /usr/local/lib/python3.11/dist-packages (from requests>=2.20->openai==0.28) (3.4.1)\n",
            "Requirement already satisfied: idna<4,>=2.5 in /usr/local/lib/python3.11/dist-packages (from requests>=2.20->openai==0.28) (3.10)\n",
            "Requirement already satisfied: urllib3<3,>=1.21.1 in /usr/local/lib/python3.11/dist-packages (from requests>=2.20->openai==0.28) (2.3.0)\n",
            "Requirement already satisfied: certifi>=2017.4.17 in /usr/local/lib/python3.11/dist-packages (from requests>=2.20->openai==0.28) (2025.1.31)\n",
            "Requirement already satisfied: aiohappyeyeballs>=2.3.0 in /usr/local/lib/python3.11/dist-packages (from aiohttp->openai==0.28) (2.6.1)\n",
            "Requirement already satisfied: aiosignal>=1.1.2 in /usr/local/lib/python3.11/dist-packages (from aiohttp->openai==0.28) (1.3.2)\n",
            "Requirement already satisfied: attrs>=17.3.0 in /usr/local/lib/python3.11/dist-packages (from aiohttp->openai==0.28) (25.3.0)\n",
            "Requirement already satisfied: frozenlist>=1.1.1 in /usr/local/lib/python3.11/dist-packages (from aiohttp->openai==0.28) (1.5.0)\n",
            "Requirement already satisfied: multidict<7.0,>=4.5 in /usr/local/lib/python3.11/dist-packages (from aiohttp->openai==0.28) (6.4.2)\n",
            "Requirement already satisfied: propcache>=0.2.0 in /usr/local/lib/python3.11/dist-packages (from aiohttp->openai==0.28) (0.3.1)\n",
            "Requirement already satisfied: yarl<2.0,>=1.17.0 in /usr/local/lib/python3.11/dist-packages (from aiohttp->openai==0.28) (1.19.0)\n",
            "Downloading openai-0.28.0-py3-none-any.whl (76 kB)\n",
            "\u001b[2K   \u001b[90m━━━━━━━━━━━━━━━━━━━━━━━━━━━━━━━━━━━━━━━━\u001b[0m \u001b[32m76.5/76.5 kB\u001b[0m \u001b[31m2.2 MB/s\u001b[0m eta \u001b[36m0:00:00\u001b[0m\n",
            "\u001b[?25hInstalling collected packages: openai\n",
            "  Attempting uninstall: openai\n",
            "    Found existing installation: openai 1.72.0\n",
            "    Uninstalling openai-1.72.0:\n",
            "      Successfully uninstalled openai-1.72.0\n",
            "Successfully installed openai-0.28.0\n"
          ]
        }
      ],
      "source": [
        "!pip install openai==0.28\n",
        "\n",
        "#import the key form colab userdata\n",
        "import openai\n",
        "from google.colab import userdata\n",
        "openai.api_key =userdata.get('chatKey')\n"
      ]
    },
    {
      "cell_type": "markdown",
      "source": [
        "### Defining three different functions for handeling three intelligence"
      ],
      "metadata": {
        "id": "QECklD8XfCf1"
      }
    },
    {
      "cell_type": "code",
      "source": [
        "import random\n",
        "\n",
        "def magic_word(word: str) -> str:\n",
        "    # Slightly more varied mocked synonyms mock base\n",
        "    synonyms = {\n",
        "        \"happy\": [\"joyful\", \"cheerful\", \"content\", \"delighted\"],\n",
        "        \"sad\": [\"unhappy\", \"downcast\", \"melancholy\", \"gloomy\"],\n",
        "        \"very big\": [\"enormous\", \"gigantic\", \"massive\", \"colossal\"],\n",
        "        \"fast\": [\"quick\", \"swift\", \"rapid\", \"speedy\"]\n",
        "    }\n",
        "    matches = synonyms.get(word.lower(), [\"(no known synonyms found)\"])\n",
        "    return f\"Some synonyms for '{word}' are: {', '.join(matches)}.\"\n",
        "\n",
        "def plot_idea_generator(genre: str) -> str:\n",
        "    # Rotating ideas for fun mock base\n",
        "    ideas = {\n",
        "        \"sci-fi\": [\n",
        "            \"In a world ruled by AI, one human hacker uncovers a forgotten truth.\",\n",
        "            \"After Earth becomes uninhabitable, a child on Mars discovers ancient alien tech.\"\n",
        "        ],\n",
        "        \"romance\": [\n",
        "            \"Two rival writers fall in love while unknowingly collaborating online.\",\n",
        "            \"A time traveler returns to the 1800s to find their soulmate.\"\n",
        "        ],\n",
        "        \"fantasy\": [\n",
        "            \"A kitchen maid discovers she’s the heir to a forgotten dragon throne.\",\n",
        "            \"A cursed forest holds the key to saving the realm—but at a great cost.\"\n",
        "        ]\n",
        "    }\n",
        "    genre_key = genre.lower()\n",
        "    if genre_key in ideas:\n",
        "        idea = random.choice(ideas[genre_key])\n",
        "        return f\"A {genre} story idea: {idea}\"\n",
        "    return f\"Sorry, I don't have story ideas for the '{genre}' genre right now.\"\n",
        "\n",
        "def grammar_checker(text: str) -> str:\n",
        "    # Simple mock correction logic mock base\n",
        "    common_errors = {\n",
        "        \"He go to school\": \"He goes to school\",\n",
        "        \"She walk\": \"She walks\",\n",
        "        \"buy apples\": \"bought apples\",\n",
        "        \"I is\": \"I am\"\n",
        "    }\n",
        "    corrected = text\n",
        "    for error, fix in common_errors.items():\n",
        "        if error in corrected:\n",
        "            corrected = corrected.replace(error, fix)\n",
        "    return f\"Revised: '{corrected}'\"\n"
      ],
      "metadata": {
        "id": "JwN4oTRRgbGZ"
      },
      "execution_count": 2,
      "outputs": []
    },
    {
      "cell_type": "markdown",
      "source": [
        "### Defining tools and some few-shot prompts"
      ],
      "metadata": {
        "id": "_gALtgLUiCK4"
      }
    },
    {
      "cell_type": "code",
      "source": [
        "#---tool functions for open ai\n",
        "tools = [\n",
        "    {\n",
        "        \"type\": \"function\",\n",
        "        \"function\": {\n",
        "            \"name\": \"magic_word\",\n",
        "            \"description\": \"Find synonyms for a word to enhance vocabulary.\",\n",
        "            \"parameters\": {\n",
        "                \"type\": \"object\",\n",
        "                \"properties\": {\n",
        "                    \"word\": {\"type\": \"string\", \"description\": \"The word to look up synonyms for.\"}\n",
        "                },\n",
        "                \"required\": [\"word\"]\n",
        "            }\n",
        "        }\n",
        "    },\n",
        "    {\n",
        "        \"type\": \"function\",\n",
        "        \"function\": {\n",
        "            \"name\": \"plot_idea_generator\",\n",
        "            \"description\": \"Generate a story plot idea based on genre or theme.\",\n",
        "            \"parameters\": {\n",
        "                \"type\": \"object\",\n",
        "                \"properties\": {\n",
        "                    \"genre\": {\"type\": \"string\", \"description\": \"Genre or theme (e.g., fantasy, romance, dystopian).\"}\n",
        "                },\n",
        "                \"required\": [\"genre\"]\n",
        "            }\n",
        "        }\n",
        "    },\n",
        "    {\n",
        "        \"type\": \"function\",\n",
        "        \"function\": {\n",
        "            \"name\": \"grammar_checker\",\n",
        "            \"description\": \"Check grammar and suggest improvements for a paragraph.\",\n",
        "            \"parameters\": {\n",
        "                \"type\": \"object\",\n",
        "                \"properties\": {\n",
        "                    \"text\": {\"type\": \"string\", \"description\": \"The paragraph to analyze and improve.\"}\n",
        "                },\n",
        "                \"required\": [\"text\"]\n",
        "            }\n",
        "        }\n",
        "    }\n",
        "]\n",
        "\n",
        "# --- Few-shot Prompt Examples\n",
        "\n",
        "few_shot_examples = [\n",
        "    {\n",
        "        \"role\": \"user\",\n",
        "        \"content\": \"Give me a story idea in the horror genre.\"\n",
        "    },\n",
        "    {\n",
        "        \"role\": \"assistant\",\n",
        "        \"tool_calls\": [\n",
        "            {\n",
        "                \"id\": \"call_1\",\n",
        "                \"type\": \"function\",\n",
        "                \"function\": {\n",
        "                    \"name\": \"plot_idea_generator\",\n",
        "                    \"arguments\": \"{\\\"genre\\\": \\\"horror\\\"}\"\n",
        "                }\n",
        "            }\n",
        "        ]\n",
        "    },\n",
        "    {\n",
        "        \"role\": \"tool\",\n",
        "        \"tool_call_id\": \"call_1\",\n",
        "        \"content\": \"A horror story idea: A family moves into a remote village where no one speaks—but everyone listens.\"\n",
        "    },\n",
        "    {\n",
        "        \"role\": \"user\",\n",
        "        \"content\": \"What’s a better word for 'very big'?\"\n",
        "    },\n",
        "    {\n",
        "        \"role\": \"assistant\",\n",
        "        \"tool_calls\": [\n",
        "            {\n",
        "                \"id\": \"call_2\",\n",
        "                \"type\": \"function\",\n",
        "                \"function\": {\n",
        "                    \"name\": \"thesaurus_lookup\",\n",
        "                    \"arguments\": \"{\\\"word\\\": \\\"very big\\\"}\"\n",
        "                }\n",
        "            }\n",
        "        ]\n",
        "    },\n",
        "    {\n",
        "        \"role\": \"tool\",\n",
        "        \"tool_call_id\": \"call_2\",\n",
        "        \"content\": \"Some synonyms for 'very big' are: enormous, gigantic, massive, colossal.\"\n",
        "    },\n",
        "    {\n",
        "        \"role\": \"user\",\n",
        "        \"content\": \"Can you fix this? 'She walk to the store and buy apples.'\"\n",
        "    },\n",
        "    {\n",
        "        \"role\": \"assistant\",\n",
        "        \"tool_calls\": [\n",
        "            {\n",
        "                \"id\": \"call_3\",\n",
        "                \"type\": \"function\",\n",
        "                \"function\": {\n",
        "                    \"name\": \"grammar_checker\",\n",
        "                    \"arguments\": \"{\\\"text\\\": \\\"She walk to the store and buy apples.\\\"}\"\n",
        "                }\n",
        "            }\n",
        "        ]\n",
        "    },\n",
        "    {\n",
        "        \"role\": \"tool\",\n",
        "        \"tool_call_id\": \"call_3\",\n",
        "        \"content\": \"Revised: 'She walks to the store and bought apples.'\"\n",
        "    }\n",
        "]\n"
      ],
      "metadata": {
        "id": "FQ8MZOqRiKMe"
      },
      "execution_count": 7,
      "outputs": []
    },
    {
      "cell_type": "markdown",
      "source": [
        "### Initialize gtp-4o-mini model for generating responces"
      ],
      "metadata": {
        "id": "XfUF5G7YjIjh"
      }
    },
    {
      "cell_type": "code",
      "source": [
        "import json\n",
        "\n",
        "#--- function for handle tool calls\n",
        "def chat_with_tools(user_message):\n",
        "    messages = [\n",
        "        {\"role\": \"system\", \"content\": \"You are a helpful writing assistant. You help users with grammar, vocabulary, and writing ideas. Use tools when needed.\"}\n",
        "    ] + few_shot_examples + [\n",
        "        {\"role\": \"user\", \"content\": user_message}\n",
        "    ]\n",
        "\n",
        "    while True:\n",
        "        try:\n",
        "            response = openai.ChatCompletion.create(\n",
        "                model=\"gpt-4o-mini\",\n",
        "                messages=messages,\n",
        "                tools=tools,\n",
        "                tool_choice=\"auto\"\n",
        "            )\n",
        "        except Exception as e:\n",
        "            return f\"Error: {str(e)}\"\n",
        "\n",
        "        message = response.choices[0].message\n",
        "        messages.append(message)\n",
        "\n",
        "        if not message.get(\"tool_calls\"):\n",
        "            return message.get(\"content\")\n",
        "\n",
        "        for tool_call in message.tool_calls:\n",
        "            function_name = tool_call.function.name\n",
        "            function_args = json.loads(tool_call.function.arguments)\n",
        "\n",
        "            if function_name == \"magic_word\":\n",
        "                result = magic_word(function_args.get(\"word\"))\n",
        "            elif function_name == \"plot_idea_generator\":\n",
        "                result = plot_idea_generator(function_args.get(\"genre\"))\n",
        "            elif function_name == \"grammar_checker\":\n",
        "                result = grammar_checker(function_args.get(\"text\"))\n",
        "            else:\n",
        "                result = \"Unknown function.\"\n",
        "\n",
        "            messages.append({\n",
        "                \"role\": \"tool\",\n",
        "                \"tool_call_id\": tool_call.id,\n",
        "                \"content\": result\n",
        "            })\n"
      ],
      "metadata": {
        "id": "4UaS3AbXjWxL"
      },
      "execution_count": 8,
      "outputs": []
    },
    {
      "cell_type": "markdown",
      "source": [
        "### lets try the assistant"
      ],
      "metadata": {
        "id": "PqDFSinXkgT_"
      }
    },
    {
      "cell_type": "code",
      "source": [
        "query1 = \"Suggest a story plot in the sci-fi genre.\"\n",
        "print(f\"Q: {query1}\\nA: {chat_with_tools(query1)}\\n\")\n"
      ],
      "metadata": {
        "colab": {
          "base_uri": "https://localhost:8080/"
        },
        "id": "QGOoIL58kkmv",
        "outputId": "f78874cf-9bff-4c1d-e4b3-ed32c4c13ed8"
      },
      "execution_count": 9,
      "outputs": [
        {
          "output_type": "stream",
          "name": "stdout",
          "text": [
            "Q: Suggest a story plot in the sci-fi genre.\n",
            "A: Here’s a sci-fi story idea: After Earth becomes uninhabitable, a child living on Mars discovers ancient alien technology that holds the key to humanity’s survival.\n",
            "\n"
          ]
        }
      ]
    },
    {
      "cell_type": "code",
      "source": [
        "query2 = \"What’s a fancier word for 'happy'?\"\n",
        "print(f\"Q: {query2}\\nA: {chat_with_tools(query2)}\\n\")"
      ],
      "metadata": {
        "colab": {
          "base_uri": "https://localhost:8080/"
        },
        "id": "2t-Hk8kCkolw",
        "outputId": "c0d23d2e-2e1a-4b46-842a-60c6900b099e"
      },
      "execution_count": 10,
      "outputs": [
        {
          "output_type": "stream",
          "name": "stdout",
          "text": [
            "Q: What’s a fancier word for 'happy'?\n",
            "A: Fancier words for \"happy\" include: joyful, cheerful, content, and delighted.\n",
            "\n"
          ]
        }
      ]
    },
    {
      "cell_type": "code",
      "source": [
        "query3 = \"Can you correct this: 'He go to school every day.'\"\n",
        "print(f\"Q: {query3}\\nA: {chat_with_tools(query3)}\\n\")"
      ],
      "metadata": {
        "colab": {
          "base_uri": "https://localhost:8080/"
        },
        "id": "AXy9v4mjksHG",
        "outputId": "d1d26618-9ac2-4af7-d748-d6e7beb1cc76"
      },
      "execution_count": 12,
      "outputs": [
        {
          "output_type": "stream",
          "name": "stdout",
          "text": [
            "Q: Can you correct this: 'He go to school every day.'\n",
            "A: The corrected sentence is: **\"He goes to school every day.\"**\n",
            "\n"
          ]
        }
      ]
    }
  ]
}